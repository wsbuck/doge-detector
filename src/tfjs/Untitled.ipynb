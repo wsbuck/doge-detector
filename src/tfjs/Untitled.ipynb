{
 "cells": [
  {
   "cell_type": "code",
   "execution_count": 1,
   "metadata": {
    "collapsed": true
   },
   "outputs": [],
   "source": [
    "import json"
   ]
  },
  {
   "cell_type": "code",
   "execution_count": 6,
   "metadata": {
    "collapsed": true
   },
   "outputs": [],
   "source": [
    "import re"
   ]
  },
  {
   "cell_type": "code",
   "execution_count": 2,
   "metadata": {},
   "outputs": [
    {
     "name": "stdout",
     "output_type": "stream",
     "text": [
      "Untitled.ipynb        \u001b[1m\u001b[32mgroup1-shard4of6.bin\u001b[m\u001b[m* outputClasses.json\r\n",
      "\u001b[1m\u001b[32mgroup1-shard1of6.bin\u001b[m\u001b[m* \u001b[1m\u001b[32mgroup1-shard5of6.bin\u001b[m\u001b[m* \u001b[1m\u001b[32moutput_classes.json\u001b[m\u001b[m*\r\n",
      "\u001b[1m\u001b[32mgroup1-shard2of6.bin\u001b[m\u001b[m* \u001b[1m\u001b[32mgroup1-shard6of6.bin\u001b[m\u001b[m*\r\n",
      "\u001b[1m\u001b[32mgroup1-shard3of6.bin\u001b[m\u001b[m* \u001b[1m\u001b[32mmodel.json\u001b[m\u001b[m*\r\n"
     ]
    }
   ],
   "source": [
    "ls"
   ]
  },
  {
   "cell_type": "code",
   "execution_count": 4,
   "metadata": {},
   "outputs": [],
   "source": [
    "with open('outputClasses.json', 'r') as f:\n",
    "    data = json.load(f)"
   ]
  },
  {
   "cell_type": "code",
   "execution_count": 154,
   "metadata": {},
   "outputs": [],
   "source": [
    "dogname = re.compile(r'(^n\\d+-)([a-zA-Z-_]+)')"
   ]
  },
  {
   "cell_type": "code",
   "execution_count": 160,
   "metadata": {},
   "outputs": [
    {
     "data": {
      "text/plain": [
       "u'Chihuahua'"
      ]
     },
     "execution_count": 160,
     "metadata": {},
     "output_type": "execute_result"
    }
   ],
   "source": [
    "dogname.findall(data['0'])[0][-1]"
   ]
  },
  {
   "cell_type": "code",
   "execution_count": 170,
   "metadata": {},
   "outputs": [
    {
     "data": {
      "text/plain": [
       "u'Japanese spaniel'"
      ]
     },
     "execution_count": 170,
     "metadata": {},
     "output_type": "execute_result"
    }
   ],
   "source": [
    "spaces = re.compile(r'_')\n",
    "spaces.sub(\" \", niceClasses['1'])"
   ]
  },
  {
   "cell_type": "code",
   "execution_count": 173,
   "metadata": {},
   "outputs": [],
   "source": [
    "niceClasses = {}\n",
    "for key, value in data.items():\n",
    "#     print(dogname.findall(value)[0][-1], \"-\", value)\n",
    "    niceClasses[key] = spaces.sub(\" \", dogname.findall(value)[0][-1]).title()"
   ]
  },
  {
   "cell_type": "code",
   "execution_count": 174,
   "metadata": {},
   "outputs": [
    {
     "data": {
      "text/plain": [
       "{u'0': u'Chihuahua',\n",
       " u'1': u'Japanese Spaniel',\n",
       " u'10': u'Basset',\n",
       " u'100': u'Affenpinscher',\n",
       " u'101': u'Basenji',\n",
       " u'102': u'Pug',\n",
       " u'103': u'Leonberg',\n",
       " u'104': u'Newfoundland',\n",
       " u'105': u'Great Pyrenees',\n",
       " u'106': u'Samoyed',\n",
       " u'107': u'Pomeranian',\n",
       " u'108': u'Chow',\n",
       " u'109': u'Keeshond',\n",
       " u'11': u'Beagle',\n",
       " u'110': u'Brabancon Griffon',\n",
       " u'111': u'Pembroke',\n",
       " u'112': u'Cardigan',\n",
       " u'113': u'Toy Poodle',\n",
       " u'114': u'Miniature Poodle',\n",
       " u'115': u'Standard Poodle',\n",
       " u'116': u'Mexican Hairless',\n",
       " u'117': u'Dingo',\n",
       " u'118': u'Dhole',\n",
       " u'119': u'African Hunting Dog',\n",
       " u'12': u'Bloodhound',\n",
       " u'13': u'Bluetick',\n",
       " u'14': u'Black-And-Tan Coonhound',\n",
       " u'15': u'Walker Hound',\n",
       " u'16': u'English Foxhound',\n",
       " u'17': u'Redbone',\n",
       " u'18': u'Borzoi',\n",
       " u'19': u'Irish Wolfhound',\n",
       " u'2': u'Maltese Dog',\n",
       " u'20': u'Italian Greyhound',\n",
       " u'21': u'Whippet',\n",
       " u'22': u'Ibizan Hound',\n",
       " u'23': u'Norwegian Elkhound',\n",
       " u'24': u'Otterhound',\n",
       " u'25': u'Saluki',\n",
       " u'26': u'Scottish Deerhound',\n",
       " u'27': u'Weimaraner',\n",
       " u'28': u'Staffordshire Bullterrier',\n",
       " u'29': u'American Staffordshire Terrier',\n",
       " u'3': u'Pekinese',\n",
       " u'30': u'Bedlington Terrier',\n",
       " u'31': u'Border Terrier',\n",
       " u'32': u'Kerry Blue Terrier',\n",
       " u'33': u'Irish Terrier',\n",
       " u'34': u'Norfolk Terrier',\n",
       " u'35': u'Norwich Terrier',\n",
       " u'36': u'Yorkshire Terrier',\n",
       " u'37': u'Wire-Haired Fox Terrier',\n",
       " u'38': u'Lakeland Terrier',\n",
       " u'39': u'Sealyham Terrier',\n",
       " u'4': u'Shih-Tzu',\n",
       " u'40': u'Airedale',\n",
       " u'41': u'Cairn',\n",
       " u'42': u'Australian Terrier',\n",
       " u'43': u'Dandie Dinmont',\n",
       " u'44': u'Boston Bull',\n",
       " u'45': u'Miniature Schnauzer',\n",
       " u'46': u'Giant Schnauzer',\n",
       " u'47': u'Standard Schnauzer',\n",
       " u'48': u'Scotch Terrier',\n",
       " u'49': u'Tibetan Terrier',\n",
       " u'5': u'Blenheim Spaniel',\n",
       " u'50': u'Silky Terrier',\n",
       " u'51': u'Soft-Coated Wheaten Terrier',\n",
       " u'52': u'West Highland White Terrier',\n",
       " u'53': u'Lhasa',\n",
       " u'54': u'Flat-Coated Retriever',\n",
       " u'55': u'Curly-Coated Retriever',\n",
       " u'56': u'Golden Retriever',\n",
       " u'57': u'Labrador Retriever',\n",
       " u'58': u'Chesapeake Bay Retriever',\n",
       " u'59': u'German Short-Haired Pointer',\n",
       " u'6': u'Papillon',\n",
       " u'60': u'Vizsla',\n",
       " u'61': u'English Setter',\n",
       " u'62': u'Irish Setter',\n",
       " u'63': u'Gordon Setter',\n",
       " u'64': u'Brittany Spaniel',\n",
       " u'65': u'Clumber',\n",
       " u'66': u'English Springer',\n",
       " u'67': u'Welsh Springer Spaniel',\n",
       " u'68': u'Cocker Spaniel',\n",
       " u'69': u'Sussex Spaniel',\n",
       " u'7': u'Toy Terrier',\n",
       " u'70': u'Irish Water Spaniel',\n",
       " u'71': u'Kuvasz',\n",
       " u'72': u'Schipperke',\n",
       " u'73': u'Groenendael',\n",
       " u'74': u'Malinois',\n",
       " u'75': u'Briard',\n",
       " u'76': u'Kelpie',\n",
       " u'77': u'Komondor',\n",
       " u'78': u'Old English Sheepdog',\n",
       " u'79': u'Shetland Sheepdog',\n",
       " u'8': u'Rhodesian Ridgeback',\n",
       " u'80': u'Collie',\n",
       " u'81': u'Border Collie',\n",
       " u'82': u'Bouvier Des Flandres',\n",
       " u'83': u'Rottweiler',\n",
       " u'84': u'German Shepherd',\n",
       " u'85': u'Doberman',\n",
       " u'86': u'Miniature Pinscher',\n",
       " u'87': u'Greater Swiss Mountain Dog',\n",
       " u'88': u'Bernese Mountain Dog',\n",
       " u'89': u'Appenzeller',\n",
       " u'9': u'Afghan Hound',\n",
       " u'90': u'Entlebucher',\n",
       " u'91': u'Boxer',\n",
       " u'92': u'Bull Mastiff',\n",
       " u'93': u'Tibetan Mastiff',\n",
       " u'94': u'French Bulldog',\n",
       " u'95': u'Great Dane',\n",
       " u'96': u'Saint Bernard',\n",
       " u'97': u'Eskimo Dog',\n",
       " u'98': u'Malamute',\n",
       " u'99': u'Siberian Husky'}"
      ]
     },
     "execution_count": 174,
     "metadata": {},
     "output_type": "execute_result"
    }
   ],
   "source": [
    "niceClasses"
   ]
  },
  {
   "cell_type": "code",
   "execution_count": 10,
   "metadata": {
    "collapsed": true
   },
   "outputs": [],
   "source": [
    "output_classes = {\n",
    "  \"n02085620-Chihuahua\": 0,\n",
    "  \"n02085782-Japanese_spaniel\": 1,\n",
    "  \"n02085936-Maltese_dog\": 2,\n",
    "  \"n02086079-Pekinese\": 3,\n",
    "  \"n02086240-Shih-Tzu\": 4,\n",
    "  \"n02086646-Blenheim_spaniel\": 5,\n",
    "  \"n02086910-papillon\": 6,\n",
    "  \"n02087046-toy_terrier\": 7,\n",
    "  \"n02087394-Rhodesian_ridgeback\": 8,\n",
    "  \"n02088094-Afghan_hound\": 9,\n",
    "  \"n02088238-basset\": 10,\n",
    "  \"n02088364-beagle\": 11,\n",
    "  \"n02088466-bloodhound\": 12,\n",
    "  \"n02088632-bluetick\": 13,\n",
    "  \"n02089078-black-and-tan_coonhound\": 14,\n",
    "  \"n02089867-Walker_hound\": 15,\n",
    "  \"n02089973-English_foxhound\": 16,\n",
    "  \"n02090379-redbone\": 17,\n",
    "  \"n02090622-borzoi\": 18,\n",
    "  \"n02090721-Irish_wolfhound\": 19,\n",
    "  \"n02091032-Italian_greyhound\": 20,\n",
    "  \"n02091134-whippet\": 21,\n",
    "  \"n02091244-Ibizan_hound\": 22,\n",
    "  \"n02091467-Norwegian_elkhound\": 23,\n",
    "  \"n02091635-otterhound\": 24,\n",
    "  \"n02091831-Saluki\": 25,\n",
    "  \"n02092002-Scottish_deerhound\": 26,\n",
    "  \"n02092339-Weimaraner\": 27,\n",
    "  \"n02093256-Staffordshire_bullterrier\": 28,\n",
    "  \"n02093428-American_Staffordshire_terrier\": 29,\n",
    "  \"n02093647-Bedlington_terrier\": 30,\n",
    "  \"n02093754-Border_terrier\": 31,\n",
    "  \"n02093859-Kerry_blue_terrier\": 32,\n",
    "  \"n02093991-Irish_terrier\": 33,\n",
    "  \"n02094114-Norfolk_terrier\": 34,\n",
    "  \"n02094258-Norwich_terrier\": 35,\n",
    "  \"n02094433-Yorkshire_terrier\": 36,\n",
    "  \"n02095314-wire-haired_fox_terrier\": 37,\n",
    "  \"n02095570-Lakeland_terrier\": 38,\n",
    "  \"n02095889-Sealyham_terrier\": 39,\n",
    "  \"n02096051-Airedale\": 40,\n",
    "  \"n02096177-cairn\": 41,\n",
    "  \"n02096294-Australian_terrier\": 42,\n",
    "  \"n02096437-Dandie_Dinmont\": 43,\n",
    "  \"n02096585-Boston_bull\": 44,\n",
    "  \"n02097047-miniature_schnauzer\": 45,\n",
    "  \"n02097130-giant_schnauzer\": 46,\n",
    "  \"n02097209-standard_schnauzer\": 47,\n",
    "  \"n02097298-Scotch_terrier\": 48,\n",
    "  \"n02097474-Tibetan_terrier\": 49,\n",
    "  \"n02097658-silky_terrier\": 50,\n",
    "  \"n02098105-soft-coated_wheaten_terrier\": 51,\n",
    "  \"n02098286-West_Highland_white_terrier\": 52,\n",
    "  \"n02098413-Lhasa\": 53,\n",
    "  \"n02099267-flat-coated_retriever\": 54,\n",
    "  \"n02099429-curly-coated_retriever\": 55,\n",
    "  \"n02099601-golden_retriever\": 56,\n",
    "  \"n02099712-Labrador_retriever\": 57,\n",
    "  \"n02099849-Chesapeake_Bay_retriever\": 58,\n",
    "  \"n02100236-German_short-haired_pointer\": 59,\n",
    "  \"n02100583-vizsla\": 60,\n",
    "  \"n02100735-English_setter\": 61,\n",
    "  \"n02100877-Irish_setter\": 62,\n",
    "  \"n02101006-Gordon_setter\": 63,\n",
    "  \"n02101388-Brittany_spaniel\": 64,\n",
    "  \"n02101556-clumber\": 65,\n",
    "  \"n02102040-English_springer\": 66,\n",
    "  \"n02102177-Welsh_springer_spaniel\": 67,\n",
    "  \"n02102318-cocker_spaniel\": 68,\n",
    "  \"n02102480-Sussex_spaniel\": 69,\n",
    "  \"n02102973-Irish_water_spaniel\": 70,\n",
    "  \"n02104029-kuvasz\": 71,\n",
    "  \"n02104365-schipperke\": 72,\n",
    "  \"n02105056-groenendael\": 73,\n",
    "  \"n02105162-malinois\": 74,\n",
    "  \"n02105251-briard\": 75,\n",
    "  \"n02105412-kelpie\": 76,\n",
    "  \"n02105505-komondor\": 77,\n",
    "  \"n02105641-Old_English_sheepdog\": 78,\n",
    "  \"n02105855-Shetland_sheepdog\": 79,\n",
    "  \"n02106030-collie\": 80,\n",
    "  \"n02106166-Border_collie\": 81,\n",
    "  \"n02106382-Bouvier_des_Flandres\": 82,\n",
    "  \"n02106550-Rottweiler\": 83,\n",
    "  \"n02106662-German_shepherd\": 84,\n",
    "  \"n02107142-Doberman\": 85,\n",
    "  \"n02107312-miniature_pinscher\": 86,\n",
    "  \"n02107574-Greater_Swiss_Mountain_dog\": 87,\n",
    "  \"n02107683-Bernese_mountain_dog\": 88,\n",
    "  \"n02107908-Appenzeller\": 89,\n",
    "  \"n02108000-EntleBucher\": 90,\n",
    "  \"n02108089-boxer\": 91,\n",
    "  \"n02108422-bull_mastiff\": 92,\n",
    "  \"n02108551-Tibetan_mastiff\": 93,\n",
    "  \"n02108915-French_bulldog\": 94,\n",
    "  \"n02109047-Great_Dane\": 95,\n",
    "  \"n02109525-Saint_Bernard\": 96,\n",
    "  \"n02109961-Eskimo_dog\": 97,\n",
    "  \"n02110063-malamute\": 98,\n",
    "  \"n02110185-Siberian_husky\": 99,\n",
    "  \"n02110627-affenpinscher\": 100,\n",
    "  \"n02110806-basenji\": 101,\n",
    "  \"n02110958-pug\": 102,\n",
    "  \"n02111129-Leonberg\": 103,\n",
    "  \"n02111277-Newfoundland\": 104,\n",
    "  \"n02111500-Great_Pyrenees\": 105,\n",
    "  \"n02111889-Samoyed\": 106,\n",
    "  \"n02112018-Pomeranian\": 107,\n",
    "  \"n02112137-chow\": 108,\n",
    "  \"n02112350-keeshond\": 109,\n",
    "  \"n02112706-Brabancon_griffon\": 110,\n",
    "  \"n02113023-Pembroke\": 111,\n",
    "  \"n02113186-Cardigan\": 112,\n",
    "  \"n02113624-toy_poodle\": 113,\n",
    "  \"n02113712-miniature_poodle\": 114,\n",
    "  \"n02113799-standard_poodle\": 115,\n",
    "  \"n02113978-Mexican_hairless\": 116,\n",
    "  \"n02115641-dingo\": 117,\n",
    "  \"n02115913-dhole\": 118,\n",
    "  \"n02116738-African_hunting_dog\": 119\n",
    "}"
   ]
  },
  {
   "cell_type": "code",
   "execution_count": 14,
   "metadata": {
    "collapsed": true
   },
   "outputs": [],
   "source": [
    "output_classes_new = {}\n",
    "\n",
    "for key, value in output_classes.items():\n",
    "#     print(key)\n",
    "#     print(value)\n",
    "    output_classes_new[value] = key"
   ]
  },
  {
   "cell_type": "code",
   "execution_count": 15,
   "metadata": {},
   "outputs": [
    {
     "data": {
      "text/plain": [
       "{0: 'n02085620-Chihuahua',\n",
       " 1: 'n02085782-Japanese_spaniel',\n",
       " 2: 'n02085936-Maltese_dog',\n",
       " 3: 'n02086079-Pekinese',\n",
       " 4: 'n02086240-Shih-Tzu',\n",
       " 5: 'n02086646-Blenheim_spaniel',\n",
       " 6: 'n02086910-papillon',\n",
       " 7: 'n02087046-toy_terrier',\n",
       " 8: 'n02087394-Rhodesian_ridgeback',\n",
       " 9: 'n02088094-Afghan_hound',\n",
       " 10: 'n02088238-basset',\n",
       " 11: 'n02088364-beagle',\n",
       " 12: 'n02088466-bloodhound',\n",
       " 13: 'n02088632-bluetick',\n",
       " 14: 'n02089078-black-and-tan_coonhound',\n",
       " 15: 'n02089867-Walker_hound',\n",
       " 16: 'n02089973-English_foxhound',\n",
       " 17: 'n02090379-redbone',\n",
       " 18: 'n02090622-borzoi',\n",
       " 19: 'n02090721-Irish_wolfhound',\n",
       " 20: 'n02091032-Italian_greyhound',\n",
       " 21: 'n02091134-whippet',\n",
       " 22: 'n02091244-Ibizan_hound',\n",
       " 23: 'n02091467-Norwegian_elkhound',\n",
       " 24: 'n02091635-otterhound',\n",
       " 25: 'n02091831-Saluki',\n",
       " 26: 'n02092002-Scottish_deerhound',\n",
       " 27: 'n02092339-Weimaraner',\n",
       " 28: 'n02093256-Staffordshire_bullterrier',\n",
       " 29: 'n02093428-American_Staffordshire_terrier',\n",
       " 30: 'n02093647-Bedlington_terrier',\n",
       " 31: 'n02093754-Border_terrier',\n",
       " 32: 'n02093859-Kerry_blue_terrier',\n",
       " 33: 'n02093991-Irish_terrier',\n",
       " 34: 'n02094114-Norfolk_terrier',\n",
       " 35: 'n02094258-Norwich_terrier',\n",
       " 36: 'n02094433-Yorkshire_terrier',\n",
       " 37: 'n02095314-wire-haired_fox_terrier',\n",
       " 38: 'n02095570-Lakeland_terrier',\n",
       " 39: 'n02095889-Sealyham_terrier',\n",
       " 40: 'n02096051-Airedale',\n",
       " 41: 'n02096177-cairn',\n",
       " 42: 'n02096294-Australian_terrier',\n",
       " 43: 'n02096437-Dandie_Dinmont',\n",
       " 44: 'n02096585-Boston_bull',\n",
       " 45: 'n02097047-miniature_schnauzer',\n",
       " 46: 'n02097130-giant_schnauzer',\n",
       " 47: 'n02097209-standard_schnauzer',\n",
       " 48: 'n02097298-Scotch_terrier',\n",
       " 49: 'n02097474-Tibetan_terrier',\n",
       " 50: 'n02097658-silky_terrier',\n",
       " 51: 'n02098105-soft-coated_wheaten_terrier',\n",
       " 52: 'n02098286-West_Highland_white_terrier',\n",
       " 53: 'n02098413-Lhasa',\n",
       " 54: 'n02099267-flat-coated_retriever',\n",
       " 55: 'n02099429-curly-coated_retriever',\n",
       " 56: 'n02099601-golden_retriever',\n",
       " 57: 'n02099712-Labrador_retriever',\n",
       " 58: 'n02099849-Chesapeake_Bay_retriever',\n",
       " 59: 'n02100236-German_short-haired_pointer',\n",
       " 60: 'n02100583-vizsla',\n",
       " 61: 'n02100735-English_setter',\n",
       " 62: 'n02100877-Irish_setter',\n",
       " 63: 'n02101006-Gordon_setter',\n",
       " 64: 'n02101388-Brittany_spaniel',\n",
       " 65: 'n02101556-clumber',\n",
       " 66: 'n02102040-English_springer',\n",
       " 67: 'n02102177-Welsh_springer_spaniel',\n",
       " 68: 'n02102318-cocker_spaniel',\n",
       " 69: 'n02102480-Sussex_spaniel',\n",
       " 70: 'n02102973-Irish_water_spaniel',\n",
       " 71: 'n02104029-kuvasz',\n",
       " 72: 'n02104365-schipperke',\n",
       " 73: 'n02105056-groenendael',\n",
       " 74: 'n02105162-malinois',\n",
       " 75: 'n02105251-briard',\n",
       " 76: 'n02105412-kelpie',\n",
       " 77: 'n02105505-komondor',\n",
       " 78: 'n02105641-Old_English_sheepdog',\n",
       " 79: 'n02105855-Shetland_sheepdog',\n",
       " 80: 'n02106030-collie',\n",
       " 81: 'n02106166-Border_collie',\n",
       " 82: 'n02106382-Bouvier_des_Flandres',\n",
       " 83: 'n02106550-Rottweiler',\n",
       " 84: 'n02106662-German_shepherd',\n",
       " 85: 'n02107142-Doberman',\n",
       " 86: 'n02107312-miniature_pinscher',\n",
       " 87: 'n02107574-Greater_Swiss_Mountain_dog',\n",
       " 88: 'n02107683-Bernese_mountain_dog',\n",
       " 89: 'n02107908-Appenzeller',\n",
       " 90: 'n02108000-EntleBucher',\n",
       " 91: 'n02108089-boxer',\n",
       " 92: 'n02108422-bull_mastiff',\n",
       " 93: 'n02108551-Tibetan_mastiff',\n",
       " 94: 'n02108915-French_bulldog',\n",
       " 95: 'n02109047-Great_Dane',\n",
       " 96: 'n02109525-Saint_Bernard',\n",
       " 97: 'n02109961-Eskimo_dog',\n",
       " 98: 'n02110063-malamute',\n",
       " 99: 'n02110185-Siberian_husky',\n",
       " 100: 'n02110627-affenpinscher',\n",
       " 101: 'n02110806-basenji',\n",
       " 102: 'n02110958-pug',\n",
       " 103: 'n02111129-Leonberg',\n",
       " 104: 'n02111277-Newfoundland',\n",
       " 105: 'n02111500-Great_Pyrenees',\n",
       " 106: 'n02111889-Samoyed',\n",
       " 107: 'n02112018-Pomeranian',\n",
       " 108: 'n02112137-chow',\n",
       " 109: 'n02112350-keeshond',\n",
       " 110: 'n02112706-Brabancon_griffon',\n",
       " 111: 'n02113023-Pembroke',\n",
       " 112: 'n02113186-Cardigan',\n",
       " 113: 'n02113624-toy_poodle',\n",
       " 114: 'n02113712-miniature_poodle',\n",
       " 115: 'n02113799-standard_poodle',\n",
       " 116: 'n02113978-Mexican_hairless',\n",
       " 117: 'n02115641-dingo',\n",
       " 118: 'n02115913-dhole',\n",
       " 119: 'n02116738-African_hunting_dog'}"
      ]
     },
     "execution_count": 15,
     "metadata": {},
     "output_type": "execute_result"
    }
   ],
   "source": [
    "output_classes_new"
   ]
  },
  {
   "cell_type": "code",
   "execution_count": 175,
   "metadata": {
    "collapsed": true
   },
   "outputs": [],
   "source": [
    "with open('outputClasses.json', 'w') as outfile:\n",
    "    json.dump(niceClasses, outfile)"
   ]
  },
  {
   "cell_type": "code",
   "execution_count": null,
   "metadata": {
    "collapsed": true
   },
   "outputs": [],
   "source": []
  }
 ],
 "metadata": {
  "kernelspec": {
   "display_name": "Python 3",
   "language": "python",
   "name": "python3"
  },
  "language_info": {
   "codemirror_mode": {
    "name": "ipython",
    "version": 2
   },
   "file_extension": ".py",
   "mimetype": "text/x-python",
   "name": "python",
   "nbconvert_exporter": "python",
   "pygments_lexer": "ipython2",
   "version": "2.7.13"
  }
 },
 "nbformat": 4,
 "nbformat_minor": 2
}
